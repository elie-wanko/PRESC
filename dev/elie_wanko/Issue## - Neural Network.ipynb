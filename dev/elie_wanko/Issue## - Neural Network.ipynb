{
 "cells": [
  {
   "cell_type": "markdown",
   "metadata": {},
   "source": [
    "# Issue ## - Neural Networks\n",
    "\n",
    "## Content\n",
    "\n",
    "- [Objective](#obj)\n",
    "- [Neural Networks](#nn)\n",
    "    1. [Backpropagation](#bp)\n",
    "    2. [Feedforward Neural Networks (FNN)](#fnn)\n",
    "    3. [Convolutional Neural Networks (CNN)](#cnn)\n",
    "    4. [Recurrent Neural Networks (RNN)](#rnn1)\n",
    "    5. [Recursive Neural Network](#rnn2)\n",
    "    6. [AutoEncoders)](#ae)\n",
    "    7. [Deep Belief Networks and Restricted Boltzmann Machines](#dbn)\n",
    "    8. [Generative Adversarial Networks (GAN)](#gan)\n",
    "    9. [Transformers](#t)\n",
    "    10. [Graph Neural Networks](#gnn)\n",
    "- [Observations](#ob)\n",
    "- [Conclusions](#cc)\n"
   ]
  },
  {
   "cell_type": "markdown",
   "metadata": {},
   "source": [
    "<a id='obj'></a>\n",
    "### Objective\n",
    "In this notebook, we will try to build a set of neural networks that predicts the class that a given observation from a given dataset belongs to. \n",
    "\n",
    "#### Importing Libraries"
   ]
  },
  {
   "cell_type": "code",
   "execution_count": null,
   "metadata": {},
   "outputs": [],
   "source": [
    "# Basic Computations\n",
    "import statistics as stats\n",
    "import numpy as np\n",
    "import pandas as pd\n",
    "import seaborn as sns\n",
    "import matplotlib.pyplot as plt\n",
    "%matplotlib inline\n",
    "%config InlineBackend.figure_format='retina'\n",
    "\n",
    "# Dynamic Markdowns\n",
    "from IPython.display import Markdown as md\n",
    "# Clear Warnings\n",
    "import warnings; warnings.simplefilter('ignore')"
   ]
  },
  {
   "cell_type": "markdown",
   "metadata": {},
   "source": [
    "### 1. Backpropagation\n",
    "\n",
    "A sample NN of a model can seen in the nn.py file in the modules folder."
   ]
  },
  {
   "cell_type": "code",
   "execution_count": null,
   "metadata": {},
   "outputs": [],
   "source": []
  },
  {
   "cell_type": "markdown",
   "metadata": {},
   "source": [
    "..."
   ]
  },
  {
   "cell_type": "markdown",
   "metadata": {},
   "source": [
    "> Unfortunately, due to lack of time as a result of the strick deadline from our CMs, I couldn't go through with this idea.\n",
    "\n",
    "Basically, my idea is to build various models using sklearn a that would train well depending on the type of data we have.\n",
    "* First, build a model that will wrangle and cluster our data.\n",
    "* Depending on the cluster (images, text, videos, ...) we will have a set of models that will train on the appropriate cluster.\n",
    "* Based on the results and use case, we will use the most performant and appropriate model.\n",
    "* Because this can be computationally demanding and private sensitive, we could couple it with various alogorithms from Federated Learning, Differential Privacy and Edge Computation."
   ]
  },
  {
   "cell_type": "markdown",
   "metadata": {},
   "source": [
    "To be Continued ...."
   ]
  }
 ],
 "metadata": {
  "kernelspec": {
   "display_name": "Python 3",
   "language": "python",
   "name": "python3"
  },
  "language_info": {
   "codemirror_mode": {
    "name": "ipython",
    "version": 3
   },
   "file_extension": ".py",
   "mimetype": "text/x-python",
   "name": "python",
   "nbconvert_exporter": "python",
   "pygments_lexer": "ipython3",
   "version": "3.7.6"
  }
 },
 "nbformat": 4,
 "nbformat_minor": 4
}
